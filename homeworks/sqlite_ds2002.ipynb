{
 "cells": [
  {
   "cell_type": "markdown",
   "id": "209c138b-520f-4a91-b7c7-3d5d0512a6a4",
   "metadata": {},
   "source": [
    "# **Homework: SQLite*\r\n"
   ]
  },
  {
   "cell_type": "markdown",
   "id": "ee1269c5-bac1-4362-a41d-da5d3e4be27c",
   "metadata": {},
   "source": [
    "# **Setting Up SQLite for the Student Grades Database**\r",
    "---\r\n",
    "\r\n",
    "## **Step 1: Creating a Connection to SQLite**\r\n",
    "\r\n",
    "In SQLite, the first thing you need to do is establish a **connection** to the database. The connection serves as the link between your Python code and the SQLite databas and conncted!\")\r\n"
   ]
  },
  {
   "cell_type": "code",
   "execution_count": 7,
   "id": "14273944-131d-4495-bb83-e76d7441a090",
   "metadata": {},
   "outputs": [
    {
     "name": "stdout",
     "output_type": "stream",
     "text": [
      "Database created and connected!\n"
     ]
    }
   ],
   "source": [
    "import sqlite3\n",
    "\n",
    "# Create or connect to an SQLite database\n",
    "connection = sqlite3.connect('student_grades.db')\n",
    "\n",
    "# Check if the connection was successful\n",
    "print(\"Database created and connected!\")"
   ]
  },
  {
   "cell_type": "markdown",
   "id": "5d14236e-b842-42e3-aa3f-505b7d3b7d7c",
   "metadata": {},
   "source": [
    "## **Step 2: Creating the Cursor and Tables**\n",
    "\n",
    "\n"
   ]
  },
  {
   "cell_type": "code",
   "execution_count": 9,
   "id": "29599b78-8971-4bb0-b251-bcc4a883f35d",
   "metadata": {},
   "outputs": [
    {
     "name": "stdout",
     "output_type": "stream",
     "text": [
      "Cursor created!\n"
     ]
    }
   ],
   "source": [
    "# Create a cursor object\n",
    "cursor = connection.cursor()\n",
    "\n",
    "# Explanation\n",
    "print(\"Cursor created!\")"
   ]
  },
  {
   "cell_type": "code",
   "execution_count": 15,
   "id": "64475ebc-d09d-42d7-b1d5-87f724d67cb4",
   "metadata": {},
   "outputs": [
    {
     "name": "stdout",
     "output_type": "stream",
     "text": [
      "student table created!\n",
      "grades table created!\n"
     ]
    }
   ],
   "source": [
    "cursor.execute('''\n",
    "CREATE TABLE IF NOT EXISTS students (\n",
    "    student_id INTEGER PRIMARY KEY AUTOINCREMENT,\n",
    "    first_name TEXT NOT NULL,\n",
    "    last_name TEXT NOT NULL\n",
    ")\n",
    "''')\n",
    "\n",
    "print(\"student table created!\")\n",
    "\n",
    "cursor.execute('''\n",
    "CREATE TABLE IF NOT EXISTS grades (\n",
    "    grade_id INTEGER PRIMARY KEY AUTOINCREMENT,\n",
    "    student_id INTEGER references students(student_id),\n",
    "    subject TEXT,\n",
    "    grade INTEGER\n",
    ")\n",
    "''')\n",
    "\n",
    "print(\"grades table created!\")\n"
   ]
  },
  {
   "cell_type": "markdown",
   "id": "d5584e13-dbd6-437c-a75a-13791726122f",
   "metadata": {},
   "source": [
    "\n",
    "\n",
    "## **Step 3: Inserting data into the tables**\n"
   ]
  },
  {
   "cell_type": "code",
   "execution_count": 17,
   "id": "b9123be7-d6a3-4fc9-a51b-512ebcb2aa30",
   "metadata": {},
   "outputs": [
    {
     "name": "stdout",
     "output_type": "stream",
     "text": [
      "Data inserted into the student table!\n",
      "Data inserted into the grade table!\n"
     ]
    }
   ],
   "source": [
    "# Sample data to insert into the student table\n",
    "student_data = [\n",
    "    ('Christopher', 'Joseph'),\n",
    "    ('Marcus', 'Burnes'),\n",
    "    ('Steven', 'Strange'),\n",
    "    ('Mary', 'Reede'),\n",
    "    ('Charlotte', 'Meyerson')\n",
    "]\n",
    "\n",
    "# Insert data into the table\n",
    "cursor.executemany('''\n",
    "INSERT INTO students (first_name, last_name) VALUES (?, ?)\n",
    "''', student_data)\n",
    "\n",
    "# Commit the transaction\n",
    "connection.commit()\n",
    "\n",
    "print(\"Data inserted into the student table!\")\n",
    "\n",
    "grade_data = [\n",
    "    (1, 'Math', 83),\n",
    "    (1, 'Spanish', 74),\n",
    "    (1, 'Programming', 94),\n",
    "    (2, 'Psychology', 87),\n",
    "    (2, 'Chemistry', 82),\n",
    "    (2, 'Spanish', 77),\n",
    "    (3, 'Chemistry', 83),\n",
    "    (3, 'Programming', 97),\n",
    "    (3, 'Math', 72),\n",
    "    (4, 'English', 80),\n",
    "    (4, 'Math', 74),\n",
    "    (4, 'Psychology', 87),\n",
    "    (5, 'History', 81),\n",
    "    (5, 'Programming', 76),\n",
    "    (5, 'Chemistry', 100)\n",
    "]\n",
    "\n",
    "# Insert data into the table\n",
    "cursor.executemany('''\n",
    "INSERT INTO grades (student_id, subject, grade) VALUES (?, ?, ?)\n",
    "''', grade_data)\n",
    "\n",
    "# Commit the transaction\n",
    "connection.commit()\n",
    "\n",
    "print(\"Data inserted into the grade table!\")"
   ]
  },
  {
   "cell_type": "markdown",
   "id": "2b4d4185-b06f-4a1f-8243-ff107a3ddd8c",
   "metadata": {},
   "source": [
    "## **Step 4: Querying the Data**\n",
    "\n",
    "---\n",
    "\n",
    "### **1. Retrieve all students' names and their grades.\n"
   ]
  },
  {
   "cell_type": "code",
   "execution_count": 21,
   "id": "eeb727b1-95df-4c5c-92d2-a4543947acf5",
   "metadata": {},
   "outputs": [
    {
     "name": "stdout",
     "output_type": "stream",
     "text": [
      "Students and their grades:\n",
      "('Christopher', 'Joseph', 'Math', 83)\n",
      "('Christopher', 'Joseph', 'Spanish', 74)\n",
      "('Christopher', 'Joseph', 'Programming', 94)\n",
      "('Marcus', 'Burnes', 'Psychology', 87)\n",
      "('Marcus', 'Burnes', 'Chemistry', 82)\n",
      "('Marcus', 'Burnes', 'Spanish', 77)\n",
      "('Steven', 'Strange', 'Chemistry', 83)\n",
      "('Steven', 'Strange', 'Programming', 97)\n",
      "('Steven', 'Strange', 'Math', 72)\n",
      "('Mary', 'Reede', 'English', 80)\n",
      "('Mary', 'Reede', 'Math', 74)\n",
      "('Mary', 'Reede', 'Psychology', 87)\n",
      "('Charlotte', 'Meyerson', 'History', 81)\n",
      "('Charlotte', 'Meyerson', 'Programming', 76)\n",
      "('Charlotte', 'Meyerson', 'Chemistry', 100)\n"
     ]
    }
   ],
   "source": [
    "\n",
    "# Retrieve all students' names and their grades.\n",
    "cursor.execute('''\n",
    "SELECT students.first_name, students.last_name, grades.subject, grades.grade \n",
    "FROM grades\n",
    "JOIN students ON students.student_id = grades.student_id\n",
    "''')\n",
    "\n",
    "# Fetch and display the results\n",
    "joined_data = cursor.fetchall()\n",
    "\n",
    "print(\"Students and their grades:\")\n",
    "for row in joined_data:\n",
    "    print(row)"
   ]
  },
  {
   "cell_type": "markdown",
   "id": "018df1ab-9dd8-44d7-ad5a-f2130cdc3cf6",
   "metadata": {},
   "source": [
    "### **2. Find the average grade for each student."
   ]
  },
  {
   "cell_type": "code",
   "execution_count": 31,
   "id": "7571863a-8383-46f8-9826-800929cdb424",
   "metadata": {},
   "outputs": [
    {
     "name": "stdout",
     "output_type": "stream",
     "text": [
      "Students and their grades:\n",
      "(83.66666666666667, 'Christopher', 'Joseph')\n",
      "(82.0, 'Marcus', 'Burnes')\n",
      "(84.0, 'Steven', 'Strange')\n",
      "(80.33333333333333, 'Mary', 'Reede')\n",
      "(85.66666666666667, 'Charlotte', 'Meyerson')\n"
     ]
    }
   ],
   "source": [
    "cursor.execute('''\n",
    "SELECT AVG(grades.grade), students.first_name, students.last_name\n",
    "FROM grades\n",
    "JOIN students ON students.student_id = grades.student_id\n",
    "GROUP BY students.student_id, students.first_name, students.last_name\n",
    "''')\n",
    "average_grades = cursor.fetchall()\n",
    "\n",
    "print(\"Students and their grades:\")\n",
    "for row in average_grades:\n",
    "    print(row)"
   ]
  },
  {
   "cell_type": "markdown",
   "id": "6ef2947c-36a4-45b3-8889-a9b841cdfa0a",
   "metadata": {},
   "source": [
    "### **3. Find the student with the highest average grade."
   ]
  },
  {
   "cell_type": "code",
   "execution_count": 37,
   "id": "ffc8e464-9624-4c33-a721-ba0db3efc1ae",
   "metadata": {},
   "outputs": [
    {
     "name": "stdout",
     "output_type": "stream",
     "text": [
      "Student with Highest Average Grade: [(82.0, 'Marcus', 'Burnes')]\n"
     ]
    }
   ],
   "source": [
    "cursor.execute('''\n",
    "SELECT AVG(grades.grade), students.first_name, students.last_name\n",
    "FROM grades\n",
    "JOIN students ON students.student_id = grades.student_id\n",
    "GROUP BY students.student_id, students.first_name, students.last_name\n",
    "ORDER BY grades.grade DESC\n",
    "LIMIT 1\n",
    "''')\n",
    "highest_grade = cursor.fetchall()\n",
    "\n",
    "print(f\"Student with Highest Average Grade: {highest_grade}\")"
   ]
  },
  {
   "cell_type": "markdown",
   "id": "3773355e-fb7e-4e02-880f-999f3a73ac05",
   "metadata": {},
   "source": [
    "### **4. Find the average grade for the Math subject."
   ]
  },
  {
   "cell_type": "code",
   "execution_count": 41,
   "id": "cd946201-9445-4107-81b8-b99f2dedf993",
   "metadata": {},
   "outputs": [
    {
     "name": "stdout",
     "output_type": "stream",
     "text": [
      "Math's Average Grade: 76.33333333333333\n"
     ]
    }
   ],
   "source": [
    "cursor.execute('''\n",
    "SELECT AVG(grades.grade)\n",
    "FROM grades\n",
    "WHERE subject = \"Math\"\n",
    "''')\n",
    "math_grade = cursor.fetchone()[0]\n",
    "\n",
    "print(f\"Math's Average Grade: {math_grade}\")"
   ]
  },
  {
   "cell_type": "markdown",
   "id": "ecc48628-8b21-4052-b19d-169c16a6ba64",
   "metadata": {},
   "source": [
    "### **5. List all students who scored above 90 in any subject."
   ]
  },
  {
   "cell_type": "code",
   "execution_count": 43,
   "id": "a0a81174-d6f3-4294-b85e-6cc464bcdf4c",
   "metadata": {},
   "outputs": [
    {
     "name": "stdout",
     "output_type": "stream",
     "text": [
      "Students on Honor Roll:\n",
      "('Christopher', 'Joseph')\n",
      "('Steven', 'Strange')\n",
      "('Charlotte', 'Meyerson')\n"
     ]
    }
   ],
   "source": [
    "cursor.execute('''\n",
    "SELECT first_name, last_name\n",
    "FROM students\n",
    "JOIN grades ON grades.student_id = students.student_id\n",
    "WHERE grade >= 90\n",
    "''')\n",
    "honor_roll = cursor.fetchall()\n",
    "\n",
    "print(\"Students on Honor Roll:\")\n",
    "for row in honor_roll:\n",
    "    print(row)\n"
   ]
  },
  {
   "cell_type": "code",
   "execution_count": null,
   "id": "36dce074-ae30-4730-bceb-34dedb0e0f76",
   "metadata": {},
   "outputs": [],
   "source": [
    "# Query for the average revenue per flavor\n",
    "cursor.execute('''\n",
    "SELECT AVG(revenue) FROM sales\n",
    "''')\n",
    "average_revenue = cursor.fetchone()[0]\n",
    "\n",
    "# Display the result\n",
    "print(f\"Average revenue per flavor: ${average_revenue}\")\n"
   ]
  },
  {
   "cell_type": "code",
   "execution_count": null,
   "id": "e933725d-bb04-4c75-93db-a2a3b9761cde",
   "metadata": {},
   "outputs": [],
   "source": [
    "# Query to sort flavors by sales in descending order\n",
    "cursor.execute('''\n",
    "SELECT flavor, sales FROM sales ORDER BY sales DESC\n",
    "''')\n",
    "sorted_sales = cursor.fetchall()\n",
    "\n",
    "# Display the results\n",
    "print(\"Flavors sorted by sales:\")\n",
    "for sale in sorted_sales:\n",
    "    print(f\"{sale[0]}: {sale[1]} sales\")\n"
   ]
  },
  {
   "cell_type": "markdown",
   "id": "3fb37fff-4b1b-47b1-a0bc-7d4c4ce15f0c",
   "metadata": {},
   "source": [
    "## **Step 5: Load data into Pandas\n",
    "\n",
    "---\n",
    "\n",
    "### **1. Use Pandas to load the data from the students and grades tables into DataFrames."
   ]
  },
  {
   "cell_type": "code",
   "execution_count": 47,
   "id": "6dc1bce1-aa17-4ec2-82ab-e6445b9ce775",
   "metadata": {},
   "outputs": [
    {
     "data": {
      "text/html": [
       "<div>\n",
       "<style scoped>\n",
       "    .dataframe tbody tr th:only-of-type {\n",
       "        vertical-align: middle;\n",
       "    }\n",
       "\n",
       "    .dataframe tbody tr th {\n",
       "        vertical-align: top;\n",
       "    }\n",
       "\n",
       "    .dataframe thead th {\n",
       "        text-align: right;\n",
       "    }\n",
       "</style>\n",
       "<table border=\"1\" class=\"dataframe\">\n",
       "  <thead>\n",
       "    <tr style=\"text-align: right;\">\n",
       "      <th></th>\n",
       "      <th>student_id</th>\n",
       "      <th>first_name</th>\n",
       "      <th>last_name</th>\n",
       "    </tr>\n",
       "  </thead>\n",
       "  <tbody>\n",
       "    <tr>\n",
       "      <th>0</th>\n",
       "      <td>1</td>\n",
       "      <td>Christopher</td>\n",
       "      <td>Joseph</td>\n",
       "    </tr>\n",
       "    <tr>\n",
       "      <th>1</th>\n",
       "      <td>2</td>\n",
       "      <td>Marcus</td>\n",
       "      <td>Burnes</td>\n",
       "    </tr>\n",
       "    <tr>\n",
       "      <th>2</th>\n",
       "      <td>3</td>\n",
       "      <td>Steven</td>\n",
       "      <td>Strange</td>\n",
       "    </tr>\n",
       "    <tr>\n",
       "      <th>3</th>\n",
       "      <td>4</td>\n",
       "      <td>Mary</td>\n",
       "      <td>Reede</td>\n",
       "    </tr>\n",
       "    <tr>\n",
       "      <th>4</th>\n",
       "      <td>5</td>\n",
       "      <td>Charlotte</td>\n",
       "      <td>Meyerson</td>\n",
       "    </tr>\n",
       "  </tbody>\n",
       "</table>\n",
       "</div>"
      ],
      "text/plain": [
       "   student_id   first_name last_name\n",
       "0           1  Christopher    Joseph\n",
       "1           2       Marcus    Burnes\n",
       "2           3       Steven   Strange\n",
       "3           4         Mary     Reede\n",
       "4           5    Charlotte  Meyerson"
      ]
     },
     "execution_count": 47,
     "metadata": {},
     "output_type": "execute_result"
    }
   ],
   "source": [
    "import pandas as pd\n",
    "\n",
    "# Query the student and grades data into a DataFrame\n",
    "df = pd.read_sql_query('SELECT * FROM students', connection)\n",
    "\n",
    "# Display the DataFrame\n",
    "df.head()\n"
   ]
  },
  {
   "cell_type": "code",
   "execution_count": 49,
   "id": "6b782359-d9ae-4d7c-9eed-7a7d4c7e04c4",
   "metadata": {},
   "outputs": [
    {
     "data": {
      "text/html": [
       "<div>\n",
       "<style scoped>\n",
       "    .dataframe tbody tr th:only-of-type {\n",
       "        vertical-align: middle;\n",
       "    }\n",
       "\n",
       "    .dataframe tbody tr th {\n",
       "        vertical-align: top;\n",
       "    }\n",
       "\n",
       "    .dataframe thead th {\n",
       "        text-align: right;\n",
       "    }\n",
       "</style>\n",
       "<table border=\"1\" class=\"dataframe\">\n",
       "  <thead>\n",
       "    <tr style=\"text-align: right;\">\n",
       "      <th></th>\n",
       "      <th>grade_id</th>\n",
       "      <th>student_id</th>\n",
       "      <th>subject</th>\n",
       "      <th>grade</th>\n",
       "    </tr>\n",
       "  </thead>\n",
       "  <tbody>\n",
       "    <tr>\n",
       "      <th>0</th>\n",
       "      <td>1</td>\n",
       "      <td>1</td>\n",
       "      <td>Math</td>\n",
       "      <td>83</td>\n",
       "    </tr>\n",
       "    <tr>\n",
       "      <th>1</th>\n",
       "      <td>2</td>\n",
       "      <td>1</td>\n",
       "      <td>Spanish</td>\n",
       "      <td>74</td>\n",
       "    </tr>\n",
       "    <tr>\n",
       "      <th>2</th>\n",
       "      <td>3</td>\n",
       "      <td>1</td>\n",
       "      <td>Programming</td>\n",
       "      <td>94</td>\n",
       "    </tr>\n",
       "    <tr>\n",
       "      <th>3</th>\n",
       "      <td>4</td>\n",
       "      <td>2</td>\n",
       "      <td>Psychology</td>\n",
       "      <td>87</td>\n",
       "    </tr>\n",
       "    <tr>\n",
       "      <th>4</th>\n",
       "      <td>5</td>\n",
       "      <td>2</td>\n",
       "      <td>Chemistry</td>\n",
       "      <td>82</td>\n",
       "    </tr>\n",
       "  </tbody>\n",
       "</table>\n",
       "</div>"
      ],
      "text/plain": [
       "   grade_id  student_id      subject  grade\n",
       "0         1           1         Math     83\n",
       "1         2           1      Spanish     74\n",
       "2         3           1  Programming     94\n",
       "3         4           2   Psychology     87\n",
       "4         5           2    Chemistry     82"
      ]
     },
     "execution_count": 49,
     "metadata": {},
     "output_type": "execute_result"
    }
   ],
   "source": [
    "import pandas as pd\n",
    "\n",
    "# Query the student and grades data into a DataFrame\n",
    "df1 = pd.read_sql_query('SELECT * FROM grades', connection)\n",
    "\n",
    "# Display the DataFrame\n",
    "df1.head()\n"
   ]
  },
  {
   "cell_type": "markdown",
   "id": "1f3ad95a-73ad-4851-9f15-d9711fdd3c63",
   "metadata": {},
   "source": [
    "### **2. Use JOIN queries to combine the data from both tables into a single DataFrame that includes each student's name, subject, and grade. "
   ]
  },
  {
   "cell_type": "code",
   "execution_count": 59,
   "id": "f3041cd1-a8da-4968-9e8f-c226ecab7333",
   "metadata": {},
   "outputs": [
    {
     "name": "stdout",
     "output_type": "stream",
     "text": [
      "     first_name last_name      subject  grade\n",
      "0   Christopher    Joseph         Math     83\n",
      "1   Christopher    Joseph      Spanish     74\n",
      "2   Christopher    Joseph  Programming     94\n",
      "3        Marcus    Burnes   Psychology     87\n",
      "4        Marcus    Burnes    Chemistry     82\n",
      "5        Marcus    Burnes      Spanish     77\n",
      "6        Steven   Strange    Chemistry     83\n",
      "7        Steven   Strange  Programming     97\n",
      "8        Steven   Strange         Math     72\n",
      "9          Mary     Reede      English     80\n",
      "10         Mary     Reede         Math     74\n",
      "11         Mary     Reede   Psychology     87\n",
      "12    Charlotte  Meyerson      History     81\n",
      "13    Charlotte  Meyerson  Programming     76\n",
      "14    Charlotte  Meyerson    Chemistry    100\n"
     ]
    }
   ],
   "source": [
    "import pandas as pd\n",
    "\n",
    "# Query the student and grades data into a DataFrame\n",
    "df_joined = pd.read_sql_query('''\n",
    "SELECT first_name, last_name, subject, grade\n",
    "FROM students\n",
    "JOIN grades ON grades.student_id = students.student_id\n",
    "''', connection)\n",
    "\n",
    "# Display the entire DataFrame\n",
    "print(df_joined)\n"
   ]
  },
  {
   "cell_type": "markdown",
   "id": "16f2dc46-0c86-47fd-8517-0d283320bc4a",
   "metadata": {},
   "source": [
    "### **3. Visualize the data with Matplotlib:"
   ]
  },
  {
   "cell_type": "code",
   "execution_count": 71,
   "id": "e5459e47-69d1-467c-881a-ccb45d114313",
   "metadata": {},
   "outputs": [
    {
     "data": {
      "image/png": "[encoded data removed]",
      "text/plain": [
       "<Figure size 1000x600 with 1 Axes>"
      ]
     },
     "metadata": {},
     "output_type": "display_data"
    }
   ],
   "source": [
    "import matplotlib.pyplot as plt\n",
    "\n",
    "# Plot the average grades for each student\n",
    "df_avg_joined = pd.read_sql_query('''\n",
    "SELECT first_name, last_name, subject, AVG(grade)\n",
    "FROM students\n",
    "JOIN grades ON grades.student_id = students.student_id\n",
    "GROUP BY students.first_name, students.last_name\n",
    "''', connection)\n",
    "\n",
    "# Plot student data\n",
    "plt.figure(figsize=(10,6))\n",
    "plt.bar(df_avg_joined['first_name'], df_avg_joined['AVG(grade)'], color='lightgreen')\n",
    "plt.xlabel('Student')\n",
    "plt.ylabel('Grades')\n",
    "plt.title('Average Grades per Students')\n",
    "plt.show()\n"
   ]
  },
  {
   "cell_type": "code",
   "execution_count": 81,
   "id": "d380aff0-3c1f-4a66-9089-96cc3d05434d",
   "metadata": {
    "scrolled": true
   },
   "outputs": [
    {
     "data": {
      "image/png": "[encoded data removed]",
      "text/plain": [
       "<Figure size 1000x600 with 1 Axes>"
      ]
     },
     "metadata": {},
     "output_type": "display_data"
    }
   ],
   "source": [
    "import matplotlib.pyplot as plt\n",
    "\n",
    "# Plot the average grades for each subject\n",
    "df_subject_joined = pd.read_sql_query('''\n",
    "SELECT subject, AVG(grade)\n",
    "FROM grades\n",
    "GROUP BY grades.subject\n",
    "''', connection)\n",
    "\n",
    "# Plot student data\n",
    "plt.figure(figsize=(10,6))\n",
    "plt.bar(df_subject_joined['subject'], df_subject_joined['AVG(grade)'], color='lightgreen')\n",
    "plt.xlabel('Subjects')\n",
    "plt.ylabel('Grades')\n",
    "plt.title('Average Grades per Subject')\n",
    "plt.show()\n"
   ]
  },
  {
   "cell_type": "code",
   "execution_count": 83,
   "id": "f8e5c257-e595-43a0-8488-241695fd3366",
   "metadata": {},
   "outputs": [
    {
     "name": "stdout",
     "output_type": "stream",
     "text": [
      "Cursor closed!\n"
     ]
    }
   ],
   "source": [
    "# Close the cursor\n",
    "cursor.close()\n",
    "\n",
    "# Explanation\n",
    "print(\"Cursor closed!\")"
   ]
  },
  {
   "cell_type": "code",
   "execution_count": null,
   "id": "ccd52518-eaa6-4fed-bf37-ff523859c7d7",
   "metadata": {},
   "outputs": [],
   "source": []
  }
 ],
 "metadata": {
  "kernelspec": {
   "display_name": "Python 3 (ipykernel)",
   "language": "python",
   "name": "python3"
  },
  "language_info": {
   "codemirror_mode": {
    "name": "ipython",
    "version": 3
   },
   "file_extension": ".py",
   "mimetype": "text/x-python",
   "name": "python",
   "nbconvert_exporter": "python",
   "pygments_lexer": "ipython3",
   "version": "3.12.4"
  }
 },
 "nbformat": 4,
 "nbformat_minor": 5
}

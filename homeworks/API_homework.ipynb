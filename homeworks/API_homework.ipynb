{
 "cells": [
  {
   "cell_type": "markdown",
   "id": "3026546d",
   "metadata": {
    "colab_type": "text",
    "id": "view-in-github"
   },
   "source": [
    "<a href=\"https://colab.research.google.com/github/fourfeatherz/DS2002F24/blob/main/Labs/Universities_and_Stock_API_Workshop.ipynb\" target=\"_parent\"><img src=\"https://colab.research.google.com/assets/colab-badge.svg\" alt=\"Open In Colab\"/></a>"
   ]
  },
  {
   "cell_type": "markdown",
   "id": "YHwTFoDB04MH",
   "metadata": {
    "id": "YHwTFoDB04MH"
   },
   "source": [
    "# API Homework"
   ]
  },
  {
   "cell_type": "markdown",
   "id": "66cdde89-20d5-4ae9-a6ef-6e4abbc680ee",
   "metadata": {},
   "source": [
    "## Challenge:\r\n",
    "\n",
    "You have seen some examples of how to interact with JSON, CSV and make API Calls. Take\r\n",
    "some time to explore the YAHOO Finance Guide at https://financeapi.net/ which shows you\r\n",
    "endpoints for calling information. Your job is to code a Python Program that does the following\r\n",
    "things:"
   ]
  },
  {
   "cell_type": "markdown",
   "id": "CDPNEdDF04MJ",
   "metadata": {
    "id": "CDPNEdDF04MJ"
   },
   "source": [
    "### Step 1: Takes user input for a stock (using the Ticker Symbol):\n",
    "IE with the input() command"
   ]
  },
  {
   "cell_type": "code",
   "execution_count": 1,
   "id": "80xOdsHQ2SzU",
   "metadata": {
    "id": "80xOdsHQ2SzU"
   },
   "outputs": [],
   "source": [
    "import json\n",
    "import pandas as pd\n",
    "import json\n",
    "import requests"
   ]
  },
  {
   "cell_type": "code",
   "execution_count": 144,
   "id": "qdoW9lbM2Wes",
   "metadata": {
    "id": "qdoW9lbM2Wes"
   },
   "outputs": [
    {
     "name": "stdin",
     "output_type": "stream",
     "text": [
      " AAPL\n"
     ]
    },
    {
     "name": "stdout",
     "output_type": "stream",
     "text": [
      "Stock input is valid! You may continue.\n"
     ]
    }
   ],
   "source": [
    "#get stock from the user\n",
    "stock=input()\n",
    "\n",
    "while not stock.isalpha():\n",
    "    print('invalid input! Must be a string with only letters!')\n",
    "    stock=input()\n",
    "\n",
    "print('Stock input is valid! You may continue.')"
   ]
  },
  {
   "cell_type": "code",
   "execution_count": 146,
   "id": "Jb5ddkbl2YWF",
   "metadata": {
    "id": "Jb5ddkbl2YWF"
   },
   "outputs": [
    {
     "name": "stdout",
     "output_type": "stream",
     "text": [
      "The Stock we will research is: AAPL\n"
     ]
    }
   ],
   "source": [
    "print(\"The Stock we will research is: \" + stock)"
   ]
  },
  {
   "cell_type": "markdown",
   "id": "9fa80b9a-2cdc-4f55-b23e-be1f2230b725",
   "metadata": {},
   "source": [
    "### Step 2: You will display back the user: \n",
    "Ticker Name, Full Name of the Stock, Current Market \n",
    "Price, Target Mean Price, 52 week high and 52 week low.\n",
    "\n",
    " Also, output 5 of the curren \r\n",
    "trending stosck."
   ]
  },
  {
   "cell_type": "code",
   "execution_count": 150,
   "id": "pFKgjZlO2atU",
   "metadata": {
    "id": "pFKgjZlO2atU"
   },
   "outputs": [
    {
     "name": "stdout",
     "output_type": "stream",
     "text": [
      "Stock data is available!\n"
     ]
    }
   ],
   "source": [
    "# Connecting to finance api\n",
    "apikey=\"KuqY36jzQ3XoQ3lgdXx53DKpQiwQtXd60bD2XqKb\"\n",
    "\n",
    "url = \"https://yfapi.net/v6/finance/quote\"\n",
    "\n",
    "querystring = {\"symbols\":stock}\n",
    "\n",
    "headers = {\n",
    "    'x-api-key': apikey\n",
    "    }\n",
    "\n",
    "response = requests.request(\"GET\", url, headers=headers, params=querystring)\n",
    "\n",
    "stock_json = response.json()\n",
    "\n",
    "# Asked ChatGPT on help to check if response.text's reponse is an empty array. If it is, then the stock doesn't exist.\n",
    "# Check if 'result' array is empty\n",
    "if not stock_json['quoteResponse']['result']:\n",
    "    print(\"No stock data was found. Please go back and input a stock that currently exists.\")\n",
    "else:\n",
    "    print(\"Stock data is available!\")\n",
    "    # print(response.text) DEBUG STATEMENT"
   ]
  },
  {
   "cell_type": "code",
   "execution_count": 158,
   "id": "SVJqBY7y2eSs",
   "metadata": {
    "id": "SVJqBY7y2eSs"
   },
   "outputs": [
    {
     "name": "stdout",
     "output_type": "stream",
     "text": [
      "Ticker Name: AAPL\n",
      "Full Name: Apple Inc.\n",
      "Current Market Price: 227.725\n",
      "Target Mean Price: N/A\n",
      "52 week High: 237.23\n",
      "52 week Low: 164.08\n"
     ]
    }
   ],
   "source": [
    "stock_json = response.json()\n",
    "\n",
    "# To catch any key errors where if a stock doesn't have an attribute, I used .get to avoid the errors and return \"N/A\" if not found.\n",
    "# taken from https://stackoverflow.com/questions/24814024/default-dict-keys-to-avoid-keyerror\n",
    "\n",
    "# print Ticker Name,\n",
    "ticker_name = stock_json['quoteResponse']['result'][0].get(\"symbol\", \"N/A\")\n",
    "print('Ticker Name: ' + ticker_name)\n",
    "# Full Name of the Stock, \n",
    "full_name = stock_json['quoteResponse']['result'][0].get(\"longName\", \"N/A\")\n",
    "print('Full Name: ' + full_name)\n",
    "# Current Market Price, \n",
    "current_market_price = stock_json['quoteResponse']['result'][0].get(\"regularMarketPrice\", \"N/A\")\n",
    "print('Current Market Price: ' + str(current_market_price))\n",
    "# Target Mean Price, \n",
    "target_mean_price = stock_json['quoteResponse']['result'][0].get(\"targetMeanPrice\", \"N/A\")\n",
    "print('Target Mean Price: ' + str(target_mean_price))\n",
    "# 52 week high, \n",
    "fiftyTwo_week_high = stock_json['quoteResponse']['result'][0].get(\"fiftyTwoWeekHigh\", \"N/A\")\n",
    "print('52 week High: ' + str(fiftyTwo_week_high))\n",
    "# 52 week low.\n",
    "fiftyTwo_week_low = stock_json['quoteResponse']['result'][0].get(\"fiftyTwoWeekLow\", \"N/A\")\n",
    "print('52 week Low: ' + str(fiftyTwo_week_low))\n"
   ]
  },
  {
   "cell_type": "markdown",
   "id": "e002c0b0-26b2-4692-9097-055bd32a0c0e",
   "metadata": {},
   "source": [
    "### Step 3: Put that data in a DataFrame and then store that to a CSV file"
   ]
  },
  {
   "cell_type": "code",
   "execution_count": 160,
   "id": "753020aa-1468-4a59-accb-c47f7a0bb5a5",
   "metadata": {},
   "outputs": [
    {
     "data": {
      "text/html": [
       "<div>\n",
       "<style scoped>\n",
       "    .dataframe tbody tr th:only-of-type {\n",
       "        vertical-align: middle;\n",
       "    }\n",
       "\n",
       "    .dataframe tbody tr th {\n",
       "        vertical-align: top;\n",
       "    }\n",
       "\n",
       "    .dataframe thead th {\n",
       "        text-align: right;\n",
       "    }\n",
       "</style>\n",
       "<table border=\"1\" class=\"dataframe\">\n",
       "  <thead>\n",
       "    <tr style=\"text-align: right;\">\n",
       "      <th></th>\n",
       "      <th>Ticker Name</th>\n",
       "      <th>Full Name</th>\n",
       "      <th>Current Market Price</th>\n",
       "      <th>52 Week High</th>\n",
       "      <th>52 Week Low</th>\n",
       "      <th>Target Mean Price</th>\n",
       "    </tr>\n",
       "  </thead>\n",
       "  <tbody>\n",
       "    <tr>\n",
       "      <th>0</th>\n",
       "      <td>AAPL</td>\n",
       "      <td>Apple Inc.</td>\n",
       "      <td>227.725</td>\n",
       "      <td>237.23</td>\n",
       "      <td>164.08</td>\n",
       "      <td>N/A</td>\n",
       "    </tr>\n",
       "  </tbody>\n",
       "</table>\n",
       "</div>"
      ],
      "text/plain": [
       "  Ticker Name   Full Name  Current Market Price  52 Week High  52 Week Low  \\\n",
       "0        AAPL  Apple Inc.               227.725        237.23       164.08   \n",
       "\n",
       "  Target Mean Price  \n",
       "0               N/A  "
      ]
     },
     "execution_count": 160,
     "metadata": {},
     "output_type": "execute_result"
    }
   ],
   "source": [
    "# Putting data into a dictionary and then into a dictionary\n",
    "stock_data = {\n",
    "    \"Ticker Name\": [ticker_name],\n",
    "    \"Full Name\": [full_name],\n",
    "    \"Current Market Price\": [current_market_price],\n",
    "    \"52 Week High\": [fiftyTwo_week_high],\n",
    "    \"52 Week Low\": [fiftyTwo_week_low],\n",
    "    \"Target Mean Price\": [target_mean_price],\n",
    "}\n",
    "\n",
    "stock_df = pd.DataFrame(stock_data)\n",
    "\n",
    "stock_df.to_csv('stock_data.csv', index=False)\n",
    "\n",
    "stock_df"
   ]
  },
  {
   "cell_type": "markdown",
   "id": "b3f56b4a-8290-4538-92c8-cba30f09448c",
   "metadata": {},
   "source": [
    "### NOTE FROM STUDENT:\n",
    "I probably could've had the entire code all in one running section for ease of use, but I felt it would be better to split it into multiple sections to make it easier to grade based on the requirements, while also showing my train of thought.\n",
    "\n",
    "You could run into an error if you decide to continue with a bad input. For example, if you put 'A!@#' as an input, it'll tell you that it is invalid and to try another. However, you could just move on to the next step without putting in a valid statement because the code is split up. This will then make you run into potential errors.\n",
    "\n",
    "The only way to fix this would be to put the entire code into a single python environment, but I felt it would go against my original intent. So I purposely left it the way it is."
   ]
  }
 ],
 "metadata": {
  "colab": {
   "include_colab_link": true,
   "provenance": []
  },
  "kernelspec": {
   "display_name": "Python 3 (ipykernel)",
   "language": "python",
   "name": "python3"
  },
  "language_info": {
   "codemirror_mode": {
    "name": "ipython",
    "version": 3
   },
   "file_extension": ".py",
   "mimetype": "text/x-python",
   "name": "python",
   "nbconvert_exporter": "python",
   "pygments_lexer": "ipython3",
   "version": "3.12.4"
  }
 },
 "nbformat": 4,
 "nbformat_minor": 5
}
